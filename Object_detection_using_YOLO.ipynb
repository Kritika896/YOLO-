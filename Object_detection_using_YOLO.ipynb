{
 "cells": [
  {
   "cell_type": "code",
   "execution_count": 7,
   "metadata": {},
   "outputs": [
    {
     "name": "stdout",
     "output_type": "stream",
     "text": [
      "Using device: cpu\n",
      "\n",
      "0: 640x448 1 dog, 100.4ms\n",
      "Speed: 2.6ms preprocess, 100.4ms inference, 1.2ms postprocess per image at shape (1, 3, 640, 448)\n",
      "Output saved to output.jpg\n"
     ]
    }
   ],
   "source": [
    "from ultralytics import YOLO\n",
    "import cv2\n",
    "import torch\n",
    "import matplotlib.pyplot as plt\n",
    "\n",
    "# Check if GPU is available\n",
    "device = 'cuda' if torch.cuda.is_available() else 'cpu'\n",
    "print(f\"Using device: {device}\")\n",
    "\n",
    "# Load the YOLOv8 model\n",
    "model = YOLO('yolov8n.pt')  # 'n' stands for nano version, change for better accuracy\n",
    "model.to(device)\n",
    "\n",
    "# Load an image\n",
    "image_path = r\"C:\\Users\\kriti\\Desktop\\dog-8198719_640.jpg\" # Change this to your image path\n",
    "image = cv2.imread(image_path)\n",
    "image_rgb = cv2.cvtColor(image, cv2.COLOR_BGR2RGB)\n",
    "\n",
    "# Perform object detection\n",
    "results = model(image_rgb)\n",
    "\n",
    "# Plot the results\n",
    "for result in results:\n",
    "    result.show()  # Show the image with detected objects\n",
    "    \n",
    "# Save the output image\n",
    "output_path = 'output.jpg'\n",
    "result.save(filename=output_path)\n",
    "print(f\"Output saved to {output_path}\")\n"
   ]
  },
  {
   "cell_type": "code",
   "execution_count": null,
   "metadata": {},
   "outputs": [],
   "source": []
  },
  {
   "cell_type": "code",
   "execution_count": null,
   "metadata": {},
   "outputs": [],
   "source": []
  }
 ],
 "metadata": {
  "kernelspec": {
   "display_name": "Python 3",
   "language": "python",
   "name": "python3"
  },
  "language_info": {
   "codemirror_mode": {
    "name": "ipython",
    "version": 3
   },
   "file_extension": ".py",
   "mimetype": "text/x-python",
   "name": "python",
   "nbconvert_exporter": "python",
   "pygments_lexer": "ipython3",
   "version": "3.11.9"
  }
 },
 "nbformat": 4,
 "nbformat_minor": 2
}
